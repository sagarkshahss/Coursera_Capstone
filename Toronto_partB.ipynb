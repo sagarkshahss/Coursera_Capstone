{
    "nbformat_minor": 2, 
    "cells": [
        {
            "source": "<h3 align=\"center\">Segmenting and Clustering Neighborhoods in Toronto</h3>\n<h5 align=center>Coursera Course 9 Week-3 Assignment <b>Part-B</b> Sagar Shah</h5>", 
            "cell_type": "markdown", 
            "metadata": {}
        }, 
        {
            "source": "(1) Using Beautifulsoup package to scrap html from wikipedia page  \n(2) Using pandas package to create dataframe\n", 
            "cell_type": "markdown", 
            "metadata": {}
        }, 
        {
            "source": "#### Installing and importing necessary packages", 
            "cell_type": "markdown", 
            "metadata": {}
        }, 
        {
            "execution_count": 1, 
            "cell_type": "code", 
            "metadata": {}, 
            "outputs": [
                {
                    "output_type": "stream", 
                    "name": "stdout", 
                    "text": "Fetching package metadata .............\nSolving package specifications: .\n\n# All requested packages already installed.\n# packages in environment at /opt/conda/envs/DSX-Python35:\n#\nbeautifulsoup4            4.6.3                    py35_0    conda-forge\n"
                }
            ], 
            "source": "!conda install -c conda-forge beautifulsoup4 --yes\n\nimport pandas as pd\nimport numpy as np\nfrom bs4 import BeautifulSoup\nimport csv\nfrom urllib.request import urlopen\n"
        }, 
        {
            "source": "#### Get the Wikipedia package for Canada postal code", 
            "cell_type": "markdown", 
            "metadata": {}
        }, 
        {
            "execution_count": 3, 
            "cell_type": "code", 
            "metadata": {}, 
            "outputs": [], 
            "source": "htmldoc = urlopen('https://en.wikipedia.org/wiki/List_of_postal_codes_of_Canada:_M')"
        }, 
        {
            "source": "#### Instantiate Beautiful Soup", 
            "cell_type": "markdown", 
            "metadata": {}
        }, 
        {
            "execution_count": 4, 
            "cell_type": "code", 
            "metadata": {}, 
            "outputs": [], 
            "source": "soupobj = BeautifulSoup(htmldoc,\"lxml\")"
        }, 
        {
            "source": "#### Scrap the table for postal code from html page", 
            "cell_type": "markdown", 
            "metadata": {}
        }, 
        {
            "execution_count": 5, 
            "cell_type": "code", 
            "metadata": {}, 
            "outputs": [], 
            "source": "toronto_table = soupobj.find_all('table',class_ = 'wikitable sortable')\ntoronto_table = toronto_table[0]\nrecords = toronto_table.findAll(\"tr\")\n"
        }, 
        {
            "source": "#### Output the table to CSV file", 
            "cell_type": "markdown", 
            "metadata": {}
        }, 
        {
            "execution_count": 6, 
            "cell_type": "code", 
            "metadata": {}, 
            "outputs": [], 
            "source": "csvfile = open('Toronto_postcode.csv','wt',newline='')\nwriter = csv.writer(csvfile)\n"
        }, 
        {
            "execution_count": 7, 
            "cell_type": "code", 
            "metadata": {}, 
            "outputs": [], 
            "source": "try:\n   for row in records:\n       csvrow = []\n       for cell in row.findAll(['td','th']):\n           csvrow.append(cell.get_text())\n       writer.writerow(csvrow)\nfinally:\n   csvfile.close()"
        }, 
        {
            "source": "#### Read CSV and create pandas Dataframe", 
            "cell_type": "markdown", 
            "metadata": {}
        }, 
        {
            "execution_count": 8, 
            "cell_type": "code", 
            "metadata": {}, 
            "outputs": [
                {
                    "execution_count": 8, 
                    "metadata": {}, 
                    "data": {
                        "text/plain": "(289, 3)"
                    }, 
                    "output_type": "execute_result"
                }
            ], 
            "source": "df = pd.read_csv('Toronto_postcode.csv') \ndf.shape"
        }, 
        {
            "execution_count": 9, 
            "cell_type": "code", 
            "metadata": {}, 
            "outputs": [
                {
                    "execution_count": 9, 
                    "metadata": {}, 
                    "data": {
                        "text/plain": "(212, 3)"
                    }, 
                    "output_type": "execute_result"
                }
            ], 
            "source": "df=df.rename(columns = {'Neighbourhood\\n':'Neighbourhood'})\ndf['Neighbourhood']= df['Neighbourhood'].str.replace(r'\\n', '')\ndf.drop(df[df.Borough == 'Not assigned'].index, inplace=True)\ndf.shape"
        }, 
        {
            "source": "### Group all the neighbourhoods in same Borough", 
            "cell_type": "markdown", 
            "metadata": {}
        }, 
        {
            "execution_count": 10, 
            "cell_type": "code", 
            "metadata": {}, 
            "outputs": [], 
            "source": "df = df.groupby(['Borough','Postcode'], as_index=False, sort=False).agg(', '.join)\n"
        }, 
        {
            "source": "### Update Neighbourhood with same value from Borough when it is Not Assigned", 
            "cell_type": "markdown", 
            "metadata": {}
        }, 
        {
            "execution_count": 11, 
            "cell_type": "code", 
            "metadata": {}, 
            "outputs": [
                {
                    "execution_count": 11, 
                    "metadata": {}, 
                    "data": {
                        "text/html": "<div>\n<style scoped>\n    .dataframe tbody tr th:only-of-type {\n        vertical-align: middle;\n    }\n\n    .dataframe tbody tr th {\n        vertical-align: top;\n    }\n\n    .dataframe thead th {\n        text-align: right;\n    }\n</style>\n<table border=\"1\" class=\"dataframe\">\n  <thead>\n    <tr style=\"text-align: right;\">\n      <th></th>\n      <th>Borough</th>\n      <th>Postcode</th>\n      <th>Neighbourhood</th>\n    </tr>\n  </thead>\n  <tbody>\n    <tr>\n      <th>0</th>\n      <td>North York</td>\n      <td>M3A</td>\n      <td>Parkwoods</td>\n    </tr>\n  </tbody>\n</table>\n</div>", 
                        "text/plain": "      Borough Postcode Neighbourhood\n0  North York      M3A     Parkwoods"
                    }, 
                    "output_type": "execute_result"
                }
            ], 
            "source": "df['Neighbourhood'] = np.where(df['Neighbourhood'] == 'Not assigned', df['Borough'] , df['Neighbourhood'])\ndf.head(1)"
        }, 
        {
            "source": "Combining 2 columns to form Address field, however it is not needed anymore since geocode API which needs it; does not work anymore", 
            "cell_type": "markdown", 
            "metadata": {}
        }, 
        {
            "execution_count": 12, 
            "cell_type": "code", 
            "metadata": {}, 
            "outputs": [
                {
                    "execution_count": 12, 
                    "metadata": {}, 
                    "data": {
                        "text/html": "<div>\n<style scoped>\n    .dataframe tbody tr th:only-of-type {\n        vertical-align: middle;\n    }\n\n    .dataframe tbody tr th {\n        vertical-align: top;\n    }\n\n    .dataframe thead th {\n        text-align: right;\n    }\n</style>\n<table border=\"1\" class=\"dataframe\">\n  <thead>\n    <tr style=\"text-align: right;\">\n      <th></th>\n      <th>Borough</th>\n      <th>Postcode</th>\n      <th>Neighbourhood</th>\n      <th>Address</th>\n    </tr>\n  </thead>\n  <tbody>\n    <tr>\n      <th>0</th>\n      <td>North York</td>\n      <td>M3A</td>\n      <td>Parkwoods</td>\n      <td>North York, M3A</td>\n    </tr>\n  </tbody>\n</table>\n</div>", 
                        "text/plain": "      Borough Postcode Neighbourhood          Address\n0  North York      M3A     Parkwoods  North York, M3A"
                    }, 
                    "output_type": "execute_result"
                }
            ], 
            "source": "df[\"Address\"]= df['Borough'] + \", \" + df['Postcode'] \ndf.head(1)"
        }, 
        {
            "source": "Following part is not needed anymore since I kept on getting Over query Limit error", 
            "cell_type": "markdown", 
            "metadata": {}
        }, 
        {
            "execution_count": 13, 
            "cell_type": "code", 
            "metadata": {}, 
            "outputs": [], 
            "source": "#!conda install -c conda-forge geocoder --yes\n#import geocoder"
        }, 
        {
            "execution_count": 14, 
            "cell_type": "code", 
            "metadata": {}, 
            "outputs": [], 
            "source": "#g = geocoder.google('Mountain View, CA')\n#g.latlong\n#g"
        }, 
        {
            "source": "#### Getting Postal code to coodinates file into Dataframe ", 
            "cell_type": "markdown", 
            "metadata": {}
        }, 
        {
            "execution_count": 15, 
            "cell_type": "code", 
            "metadata": {}, 
            "outputs": [
                {
                    "output_type": "stream", 
                    "name": "stdout", 
                    "text": "Data downloaded!\n"
                }
            ], 
            "source": "!wget -q -O 'Geospatial_Coordinates.csv'  http://cocl.us/Geospatial_data/Geospatial_Coordinates.csv\nprint('Data downloaded!')"
        }, 
        {
            "execution_count": 17, 
            "cell_type": "code", 
            "metadata": {}, 
            "outputs": [], 
            "source": "geo_df = pd.read_csv('Geospatial_Coordinates.csv')"
        }, 
        {
            "source": "#### Joining two Dataframes on postal code to get coordinates", 
            "cell_type": "markdown", 
            "metadata": {}
        }, 
        {
            "execution_count": 18, 
            "cell_type": "code", 
            "metadata": {}, 
            "outputs": [], 
            "source": "final_df = pd.merge(df, geo_df, left_on='Postcode', right_on='Postal Code')"
        }, 
        {
            "execution_count": 20, 
            "cell_type": "code", 
            "metadata": {}, 
            "outputs": [
                {
                    "execution_count": 20, 
                    "metadata": {}, 
                    "data": {
                        "text/html": "<div>\n<style scoped>\n    .dataframe tbody tr th:only-of-type {\n        vertical-align: middle;\n    }\n\n    .dataframe tbody tr th {\n        vertical-align: top;\n    }\n\n    .dataframe thead th {\n        text-align: right;\n    }\n</style>\n<table border=\"1\" class=\"dataframe\">\n  <thead>\n    <tr style=\"text-align: right;\">\n      <th></th>\n      <th>Borough</th>\n      <th>Postcode</th>\n      <th>Neighbourhood</th>\n      <th>Address</th>\n      <th>Latitude</th>\n      <th>Longitude</th>\n    </tr>\n  </thead>\n  <tbody>\n    <tr>\n      <th>0</th>\n      <td>North York</td>\n      <td>M3A</td>\n      <td>Parkwoods</td>\n      <td>North York, M3A</td>\n      <td>43.753259</td>\n      <td>-79.329656</td>\n    </tr>\n    <tr>\n      <th>1</th>\n      <td>North York</td>\n      <td>M4A</td>\n      <td>Victoria Village</td>\n      <td>North York, M4A</td>\n      <td>43.725882</td>\n      <td>-79.315572</td>\n    </tr>\n    <tr>\n      <th>2</th>\n      <td>Downtown Toronto</td>\n      <td>M5A</td>\n      <td>Harbourfront, Regent Park</td>\n      <td>Downtown Toronto, M5A</td>\n      <td>43.654260</td>\n      <td>-79.360636</td>\n    </tr>\n    <tr>\n      <th>3</th>\n      <td>North York</td>\n      <td>M6A</td>\n      <td>Lawrence Heights, Lawrence Manor</td>\n      <td>North York, M6A</td>\n      <td>43.718518</td>\n      <td>-79.464763</td>\n    </tr>\n    <tr>\n      <th>4</th>\n      <td>Queen's Park</td>\n      <td>M7A</td>\n      <td>Queen's Park</td>\n      <td>Queen's Park, M7A</td>\n      <td>43.662301</td>\n      <td>-79.389494</td>\n    </tr>\n    <tr>\n      <th>5</th>\n      <td>Etobicoke</td>\n      <td>M9A</td>\n      <td>Islington Avenue</td>\n      <td>Etobicoke, M9A</td>\n      <td>43.667856</td>\n      <td>-79.532242</td>\n    </tr>\n    <tr>\n      <th>6</th>\n      <td>Scarborough</td>\n      <td>M1B</td>\n      <td>Rouge, Malvern</td>\n      <td>Scarborough, M1B</td>\n      <td>43.806686</td>\n      <td>-79.194353</td>\n    </tr>\n    <tr>\n      <th>7</th>\n      <td>North York</td>\n      <td>M3B</td>\n      <td>Don Mills North</td>\n      <td>North York, M3B</td>\n      <td>43.745906</td>\n      <td>-79.352188</td>\n    </tr>\n    <tr>\n      <th>8</th>\n      <td>East York</td>\n      <td>M4B</td>\n      <td>Woodbine Gardens, Parkview Hill</td>\n      <td>East York, M4B</td>\n      <td>43.706397</td>\n      <td>-79.309937</td>\n    </tr>\n    <tr>\n      <th>9</th>\n      <td>Downtown Toronto</td>\n      <td>M5B</td>\n      <td>Ryerson, Garden District</td>\n      <td>Downtown Toronto, M5B</td>\n      <td>43.657162</td>\n      <td>-79.378937</td>\n    </tr>\n    <tr>\n      <th>10</th>\n      <td>North York</td>\n      <td>M6B</td>\n      <td>Glencairn</td>\n      <td>North York, M6B</td>\n      <td>43.709577</td>\n      <td>-79.445073</td>\n    </tr>\n    <tr>\n      <th>11</th>\n      <td>Etobicoke</td>\n      <td>M9B</td>\n      <td>Cloverdale, Islington, Martin Grove, Princess ...</td>\n      <td>Etobicoke, M9B</td>\n      <td>43.650943</td>\n      <td>-79.554724</td>\n    </tr>\n  </tbody>\n</table>\n</div>", 
                        "text/plain": "             Borough Postcode  \\\n0         North York      M3A   \n1         North York      M4A   \n2   Downtown Toronto      M5A   \n3         North York      M6A   \n4       Queen's Park      M7A   \n5          Etobicoke      M9A   \n6        Scarborough      M1B   \n7         North York      M3B   \n8          East York      M4B   \n9   Downtown Toronto      M5B   \n10        North York      M6B   \n11         Etobicoke      M9B   \n\n                                        Neighbourhood                Address  \\\n0                                           Parkwoods        North York, M3A   \n1                                    Victoria Village        North York, M4A   \n2                           Harbourfront, Regent Park  Downtown Toronto, M5A   \n3                    Lawrence Heights, Lawrence Manor        North York, M6A   \n4                                        Queen's Park      Queen's Park, M7A   \n5                                    Islington Avenue         Etobicoke, M9A   \n6                                      Rouge, Malvern       Scarborough, M1B   \n7                                     Don Mills North        North York, M3B   \n8                     Woodbine Gardens, Parkview Hill         East York, M4B   \n9                            Ryerson, Garden District  Downtown Toronto, M5B   \n10                                          Glencairn        North York, M6B   \n11  Cloverdale, Islington, Martin Grove, Princess ...         Etobicoke, M9B   \n\n     Latitude  Longitude  \n0   43.753259 -79.329656  \n1   43.725882 -79.315572  \n2   43.654260 -79.360636  \n3   43.718518 -79.464763  \n4   43.662301 -79.389494  \n5   43.667856 -79.532242  \n6   43.806686 -79.194353  \n7   43.745906 -79.352188  \n8   43.706397 -79.309937  \n9   43.657162 -79.378937  \n10  43.709577 -79.445073  \n11  43.650943 -79.554724  "
                    }, 
                    "output_type": "execute_result"
                }
            ], 
            "source": "final_df = final_df[['Borough','Postcode','Neighbourhood','Address','Latitude','Longitude']]\nfinal_df.head(12)"
        }, 
        {
            "execution_count": null, 
            "cell_type": "code", 
            "metadata": {}, 
            "outputs": [], 
            "source": ""
        }
    ], 
    "metadata": {
        "kernelspec": {
            "display_name": "Python 3.5", 
            "name": "python3", 
            "language": "python"
        }, 
        "widgets": {
            "state": {}, 
            "version": "1.1.2"
        }, 
        "language_info": {
            "mimetype": "text/x-python", 
            "nbconvert_exporter": "python", 
            "version": "3.5.5", 
            "name": "python", 
            "file_extension": ".py", 
            "pygments_lexer": "ipython3", 
            "codemirror_mode": {
                "version": 3, 
                "name": "ipython"
            }
        }
    }, 
    "nbformat": 4
}